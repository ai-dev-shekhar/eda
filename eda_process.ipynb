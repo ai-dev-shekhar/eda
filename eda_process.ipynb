{
 "cells": [
  {
   "cell_type": "markdown",
   "metadata": {},
   "source": [
    "## Lifecycle of EDA"
   ]
  },
  {
   "cell_type": "markdown",
   "metadata": {},
   "source": [
    "Step 1: Feature Engineering - [Use kaggle kernels and medium articles to know the techniques]  \n",
    "1.1 Handling missing values.  \n",
    "1.2 Handle Categorical Features.  \n",
    "1.3 this is just test.  \n",
    "1.4"
   ]
  },
  {
   "cell_type": "markdown",
   "metadata": {},
   "source": []
  }
 ],
 "metadata": {
  "language_info": {
   "name": "python"
  }
 },
 "nbformat": 4,
 "nbformat_minor": 2
}
